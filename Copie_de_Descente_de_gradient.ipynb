{
  "nbformat": 4,
  "nbformat_minor": 0,
  "metadata": {
    "kernelspec": {
      "display_name": "Python 3",
      "language": "python",
      "name": "python3"
    },
    "language_info": {
      "codemirror_mode": {
        "name": "ipython",
        "version": 3
      },
      "file_extension": ".py",
      "mimetype": "text/x-python",
      "name": "python",
      "nbconvert_exporter": "python",
      "pygments_lexer": "ipython3",
      "version": "3.8.3"
    },
    "varInspector": {
      "cols": {
        "lenName": 16,
        "lenType": 16,
        "lenVar": 40
      },
      "kernels_config": {
        "python": {
          "delete_cmd_postfix": "",
          "delete_cmd_prefix": "del ",
          "library": "var_list.py",
          "varRefreshCmd": "print(var_dic_list())"
        },
        "r": {
          "delete_cmd_postfix": ") ",
          "delete_cmd_prefix": "rm(",
          "library": "var_list.r",
          "varRefreshCmd": "cat(var_dic_list()) "
        }
      },
      "types_to_exclude": [
        "module",
        "function",
        "builtin_function_or_method",
        "instance",
        "_Feature"
      ],
      "window_display": false
    },
    "colab": {
      "name": "Copie de Descente_de_gradient.ipynb",
      "provenance": [],
      "include_colab_link": true
    }
  },
  "cells": [
    {
      "cell_type": "markdown",
      "metadata": {
        "id": "view-in-github",
        "colab_type": "text"
      },
      "source": [
        "<a href=\"https://colab.research.google.com/github/roxin/Professional_iOS_AugmentedReality/blob/master/Copie_de_Descente_de_gradient.ipynb\" target=\"_parent\"><img src=\"https://colab.research.google.com/assets/colab-badge.svg\" alt=\"Open In Colab\"/></a>"
      ]
    },
    {
      "cell_type": "markdown",
      "metadata": {
        "id": "jpoYHDHo6Ya0"
      },
      "source": [
        "# Algorithme de la descente de gradient\n",
        "### Source d'inspiration :\n",
        "### https://www.bogotobogo.com/python/python_numpy_batch_gradient_descent_algorithm.php"
      ]
    },
    {
      "cell_type": "markdown",
      "metadata": {
        "id": "oFq5HwUE6Ya1"
      },
      "source": [
        "### Descente du gradient (descente graduelle)"
      ]
    },
    {
      "cell_type": "markdown",
      "metadata": {
        "id": "HCoo_tO26Ya2"
      },
      "source": [
        "### Fonction coût"
      ]
    },
    {
      "cell_type": "markdown",
      "metadata": {
        "id": "OIno64Rp6ihR"
      },
      "source": [
        "\\begin{equation*}\n",
        "J \\left(\\theta_0, \\theta_1\\right) = \\frac{1}{2m}\\sum_{i=1}^m ( h_\\theta(x_i)- y_i)^2\n",
        "\\end{equation*}"
      ]
    },
    {
      "cell_type": "markdown",
      "metadata": {
        "id": "0IEYRPXs79S7"
      },
      "source": [
        "Algorithme de la descente du gradient :\n",
        "\n",
        "     Répeter jusqu'à la convergence :\n",
        "\\begin{equation*}\n",
        "\\theta_0 := \\theta_0 - \\alpha \\frac{1}{m}\\sum_{i=1}^m ( h_\\theta(x_i)- y_i)\n",
        "\\end{equation*}"
      ]
    },
    {
      "cell_type": "markdown",
      "metadata": {
        "id": "pPhugYuc-G1-"
      },
      "source": [
        "\\begin{equation*}\n",
        "\\theta_1 := \\theta_1 - \\alpha \\frac{1}{m}\\sum_{i=1}^m ( h_\\theta(x_i)- y_i)x_i\n",
        "\\end{equation*}"
      ]
    },
    {
      "cell_type": "code",
      "metadata": {
        "ExecuteTime": {
          "end_time": "2020-09-13T12:52:05.213359Z",
          "start_time": "2020-09-13T12:52:05.207791Z"
        },
        "id": "RTREml0f6Ya4"
      },
      "source": [
        "# importation des bibliothéques\n",
        "import numpy as np\n",
        "import matplotlib.pyplot as plt\n",
        "\n",
        "# déclaration d'une fonction pour la descente de gradient\n",
        "def descente_de_gradient(alpha, X, y, iterations):\n",
        "    m = X.shape[0] # number d'echantillons\n",
        "    theta = np.ones(2)\n",
        "    X_transpose = X.transpose()\n",
        "    for iter in range(0, iterations):\n",
        "        hypothesis = np.dot(X, theta)\n",
        "        differences = hypothesis - y\n",
        "        J = np.sum(differences ** 2) / (2 * m)  # fonction coût (objectif)\n",
        "        valJ.append(J)\n",
        "        # print (\"iter %s | J: %.3f\" % (iter, J))      \n",
        "        gradients = np.dot(X_transpose, differences) / m \n",
        "        # gradients = X.T.dot(X.dot(theta) - y) / m\n",
        "        theta = theta - alpha * gradients  # mise à jour / nouveau theta \n",
        "        valTheta_0.append(theta[0])\n",
        "        valTheta_1.append(theta[1])\n",
        "    return theta\n",
        "#"
      ],
      "execution_count": 1,
      "outputs": []
    },
    {
      "cell_type": "code",
      "metadata": {
        "ExecuteTime": {
          "end_time": "2020-09-13T12:52:09.973536Z",
          "start_time": "2020-09-13T12:52:09.969544Z"
        },
        "id": "YORc1oVy6Ya7",
        "colab": {
          "base_uri": "https://localhost:8080/"
        },
        "outputId": "fd64f530-b5f5-4278-8fc4-0e5c4405e181"
      },
      "source": [
        "# Longue serie de données\n",
        "X = 3 * np.random.rand(100, 1)  # genère un vecteur colonne avec 100 éléments (valeurs de 0 à 1) \n",
        "y = 2 + 5 * X + np.random.randn(100, 1)\n",
        "print(np.shape(y))\n",
        "y = y.reshape(100,)\n",
        "print(np.shape(y))"
      ],
      "execution_count": 20,
      "outputs": [
        {
          "output_type": "stream",
          "name": "stdout",
          "text": [
            "(100, 1)\n",
            "(100,)\n"
          ]
        }
      ]
    },
    {
      "cell_type": "code",
      "metadata": {
        "ExecuteTime": {
          "end_time": "2020-09-13T16:33:28.085306Z",
          "start_time": "2020-09-13T16:33:28.080982Z"
        },
        "id": "bzg1KcRS6Ya_",
        "colab": {
          "base_uri": "https://localhost:8080/"
        },
        "outputId": "7e87cab8-5f45-4857-d040-618f2541f2d1"
      },
      "source": [
        "# Série courte de données\n",
        "X = np.array([[3], [4], [6], [10]]) #, [14], [16]]) \n",
        "y = np.array([7, 9, 10, 17]) #, 20, 23])\n",
        "print('X = ',X)\n",
        "print('y = ', y)\n",
        "              "
      ],
      "execution_count": 6,
      "outputs": [
        {
          "output_type": "stream",
          "name": "stdout",
          "text": [
            "X =  [[ 3]\n",
            " [ 4]\n",
            " [ 6]\n",
            " [10]]\n",
            "y =  [ 7  9 10 17]\n"
          ]
        }
      ]
    },
    {
      "cell_type": "code",
      "metadata": {
        "ExecuteTime": {
          "end_time": "2020-09-13T16:28:31.508453Z",
          "start_time": "2020-09-13T16:28:31.505493Z"
        },
        "id": "hCFWrqtn6YbB",
        "colab": {
          "base_uri": "https://localhost:8080/"
        },
        "outputId": "69023799-49ad-4211-f673-d63db91c9579"
      },
      "source": [
        "#print(X, \"\\n\", y)\n",
        "m = np.shape(X)\n",
        "print(m)"
      ],
      "execution_count": 21,
      "outputs": [
        {
          "output_type": "stream",
          "name": "stdout",
          "text": [
            "(100, 1)\n"
          ]
        }
      ]
    },
    {
      "cell_type": "code",
      "metadata": {
        "ExecuteTime": {
          "end_time": "2020-09-13T16:29:03.339639Z",
          "start_time": "2020-09-13T16:29:03.320492Z"
        },
        "id": "i8R5OB4M6YbE",
        "colab": {
          "base_uri": "https://localhost:8080/"
        },
        "outputId": "8dfaf0d6-b17b-4191-926d-e2b90124c6bc"
      },
      "source": [
        "# concatenation de deux matrices\n",
        "X_b = np.c_[ np.ones(m), X] # insérer une colonne\n",
        "print(X_b)\n",
        "valJ = []                   # mémorisera les valeurs de la fonction objectif J(theta0, theta1)\n",
        "alpha = 0.005               # pas d'apprentissage\n",
        "valTheta_0 = []\n",
        "valTheta_1 = []\n",
        "nombreIterations = 1000\n",
        "# appel de la function descente_de_gradient\n",
        "theta = descente_de_gradient(alpha, X_b, y, nombreIterations)\n",
        "print(X_b.transpose())\n",
        "\n",
        "print(theta)"
      ],
      "execution_count": 22,
      "outputs": [
        {
          "output_type": "stream",
          "name": "stdout",
          "text": [
            "[[1.         0.91787242]\n",
            " [1.         0.04206402]\n",
            " [1.         0.49547079]\n",
            " [1.         1.74572342]\n",
            " [1.         2.01709652]\n",
            " [1.         1.00911326]\n",
            " [1.         0.2445942 ]\n",
            " [1.         1.28196111]\n",
            " [1.         0.90976584]\n",
            " [1.         0.69408202]\n",
            " [1.         2.47800121]\n",
            " [1.         1.90872119]\n",
            " [1.         1.4955417 ]\n",
            " [1.         0.42443773]\n",
            " [1.         2.47650978]\n",
            " [1.         1.60029781]\n",
            " [1.         2.7252116 ]\n",
            " [1.         0.85831657]\n",
            " [1.         2.64321533]\n",
            " [1.         2.5756777 ]\n",
            " [1.         2.31495427]\n",
            " [1.         2.85842716]\n",
            " [1.         0.33797333]\n",
            " [1.         2.87220573]\n",
            " [1.         2.11082024]\n",
            " [1.         2.16008674]\n",
            " [1.         1.81247151]\n",
            " [1.         2.19389086]\n",
            " [1.         0.3923049 ]\n",
            " [1.         0.65877775]\n",
            " [1.         0.86116672]\n",
            " [1.         0.43858684]\n",
            " [1.         1.58702553]\n",
            " [1.         1.73111774]\n",
            " [1.         1.40527142]\n",
            " [1.         2.60534718]\n",
            " [1.         0.34390131]\n",
            " [1.         2.30592558]\n",
            " [1.         1.38139312]\n",
            " [1.         1.57949043]\n",
            " [1.         1.33659806]\n",
            " [1.         0.24553658]\n",
            " [1.         1.77277695]\n",
            " [1.         1.98160661]\n",
            " [1.         2.96687743]\n",
            " [1.         0.64546459]\n",
            " [1.         2.92175143]\n",
            " [1.         0.22436054]\n",
            " [1.         2.99510485]\n",
            " [1.         0.57119894]\n",
            " [1.         2.50778844]\n",
            " [1.         0.75950843]\n",
            " [1.         2.5875118 ]\n",
            " [1.         1.21050871]\n",
            " [1.         1.90691966]\n",
            " [1.         1.89617471]\n",
            " [1.         2.45121243]\n",
            " [1.         0.51101121]\n",
            " [1.         1.12822271]\n",
            " [1.         1.75013558]\n",
            " [1.         0.45889792]\n",
            " [1.         0.16413189]\n",
            " [1.         2.09296791]\n",
            " [1.         0.32507829]\n",
            " [1.         2.48387594]\n",
            " [1.         0.75666675]\n",
            " [1.         1.90255113]\n",
            " [1.         1.55944821]\n",
            " [1.         1.70690523]\n",
            " [1.         2.02208716]\n",
            " [1.         0.73692731]\n",
            " [1.         0.01361586]\n",
            " [1.         0.54751915]\n",
            " [1.         2.24255608]\n",
            " [1.         1.77933627]\n",
            " [1.         1.77876272]\n",
            " [1.         2.18176113]\n",
            " [1.         0.18457579]\n",
            " [1.         2.33057451]\n",
            " [1.         0.66926771]\n",
            " [1.         1.6742817 ]\n",
            " [1.         1.29984511]\n",
            " [1.         0.14091149]\n",
            " [1.         1.70382138]\n",
            " [1.         1.20832789]\n",
            " [1.         2.03992162]\n",
            " [1.         1.22968711]\n",
            " [1.         0.86444282]\n",
            " [1.         1.73735728]\n",
            " [1.         1.42254942]\n",
            " [1.         2.96269787]\n",
            " [1.         0.26360555]\n",
            " [1.         2.16550283]\n",
            " [1.         2.03080745]\n",
            " [1.         1.79546235]\n",
            " [1.         2.00259263]\n",
            " [1.         1.37481654]\n",
            " [1.         0.28373004]\n",
            " [1.         2.13433214]\n",
            " [1.         2.03044631]]\n",
            "[[1.         1.         1.         1.         1.         1.\n",
            "  1.         1.         1.         1.         1.         1.\n",
            "  1.         1.         1.         1.         1.         1.\n",
            "  1.         1.         1.         1.         1.         1.\n",
            "  1.         1.         1.         1.         1.         1.\n",
            "  1.         1.         1.         1.         1.         1.\n",
            "  1.         1.         1.         1.         1.         1.\n",
            "  1.         1.         1.         1.         1.         1.\n",
            "  1.         1.         1.         1.         1.         1.\n",
            "  1.         1.         1.         1.         1.         1.\n",
            "  1.         1.         1.         1.         1.         1.\n",
            "  1.         1.         1.         1.         1.         1.\n",
            "  1.         1.         1.         1.         1.         1.\n",
            "  1.         1.         1.         1.         1.         1.\n",
            "  1.         1.         1.         1.         1.         1.\n",
            "  1.         1.         1.         1.         1.         1.\n",
            "  1.         1.         1.         1.        ]\n",
            " [0.91787242 0.04206402 0.49547079 1.74572342 2.01709652 1.00911326\n",
            "  0.2445942  1.28196111 0.90976584 0.69408202 2.47800121 1.90872119\n",
            "  1.4955417  0.42443773 2.47650978 1.60029781 2.7252116  0.85831657\n",
            "  2.64321533 2.5756777  2.31495427 2.85842716 0.33797333 2.87220573\n",
            "  2.11082024 2.16008674 1.81247151 2.19389086 0.3923049  0.65877775\n",
            "  0.86116672 0.43858684 1.58702553 1.73111774 1.40527142 2.60534718\n",
            "  0.34390131 2.30592558 1.38139312 1.57949043 1.33659806 0.24553658\n",
            "  1.77277695 1.98160661 2.96687743 0.64546459 2.92175143 0.22436054\n",
            "  2.99510485 0.57119894 2.50778844 0.75950843 2.5875118  1.21050871\n",
            "  1.90691966 1.89617471 2.45121243 0.51101121 1.12822271 1.75013558\n",
            "  0.45889792 0.16413189 2.09296791 0.32507829 2.48387594 0.75666675\n",
            "  1.90255113 1.55944821 1.70690523 2.02208716 0.73692731 0.01361586\n",
            "  0.54751915 2.24255608 1.77933627 1.77876272 2.18176113 0.18457579\n",
            "  2.33057451 0.66926771 1.6742817  1.29984511 0.14091149 1.70382138\n",
            "  1.20832789 2.03992162 1.22968711 0.86444282 1.73735728 1.42254942\n",
            "  2.96269787 0.26360555 2.16550283 2.03080745 1.79546235 2.00259263\n",
            "  1.37481654 0.28373004 2.13433214 2.03044631]]\n",
            "[2.40383486 4.76130215]\n"
          ]
        }
      ]
    },
    {
      "cell_type": "code",
      "metadata": {
        "ExecuteTime": {
          "end_time": "2020-09-13T12:54:25.911723Z",
          "start_time": "2020-09-13T12:54:25.750447Z"
        },
        "id": "LUKJRaZw6YbG",
        "colab": {
          "base_uri": "https://localhost:8080/",
          "height": 287
        },
        "outputId": "cc9ef386-a7c1-4927-c4d2-b3892ae96cc2"
      },
      "source": [
        "# visualisation\n",
        "for i in range(X_b.shape[1]):\n",
        "    y_predict = theta[0] + theta[1]*X_b \n",
        "\n",
        "plt.plot(X_b[:,1],y,'o',label=\"Prédictions\")\n",
        "plt.plot(X_b,y_predict,'k-')\n",
        "plt.xlabel(\"$X$\", fontsize=18)\n",
        "plt.ylabel(\"$y$\", rotation=0, fontsize=18)\n",
        "plt.legend(loc=\"upper left\", fontsize=14)\n",
        "plt.show()"
      ],
      "execution_count": 23,
      "outputs": [
        {
          "output_type": "display_data",
          "data": {
            "image/png": "[encoded data removed]",
            "text/plain": [
              "<Figure size 432x288 with 1 Axes>"
            ]
          },
          "metadata": {
            "needs_background": "light"
          }
        }
      ]
    },
    {
      "cell_type": "code",
      "metadata": {
        "ExecuteTime": {
          "end_time": "2020-09-13T12:54:33.721290Z",
          "start_time": "2020-09-13T12:54:33.584014Z"
        },
        "id": "t_JXLMFz6YbJ",
        "colab": {
          "base_uri": "https://localhost:8080/",
          "height": 265
        },
        "outputId": "90e0c652-ca4b-423f-abb2-59142e99c395"
      },
      "source": [
        "# fonction coût\n",
        "alpha = 10\n",
        "plt.plot(range(nombreIterations), valJ)\n",
        "#plt.title('Pas d\\'apprentissage = ', alpha)\n",
        "plt.show()"
      ],
      "execution_count": 24,
      "outputs": [
        {
          "output_type": "display_data",
          "data": {
            "image/png": "[encoded data removed]",
            "text/plain": [
              "<Figure size 432x288 with 1 Axes>"
            ]
          },
          "metadata": {
            "needs_background": "light"
          }
        }
      ]
    },
    {
      "cell_type": "code",
      "metadata": {
        "ExecuteTime": {
          "end_time": "2020-09-13T12:54:39.673414Z",
          "start_time": "2020-09-13T12:54:39.526014Z"
        },
        "id": "NhyMFbaY6YbM",
        "outputId": "906fe8ad-c3a4-437e-995c-975d3145650c"
      },
      "source": [
        "# valTheta [0] valTheta [1]\n",
        "\"\"\"plt.plot(range(nombreIterations), valTheta_0)\n",
        "plt.show()\n",
        "\"\"\"\n",
        "#print(valTheta_1)\n",
        "plt.plot(range(nombreIterations), valTheta_0)\n",
        "plt.plot(range(nombreIterations), valTheta_1)\n",
        "plt.show()\n"
      ],
      "execution_count": null,
      "outputs": [
        {
          "output_type": "display_data",
          "data": {
            "image/png": "[encoded data removed]",
            "text/plain": [
              "<Figure size 432x288 with 1 Axes>"
            ]
          },
          "metadata": {
            "tags": [],
            "needs_background": "light"
          }
        }
      ]
    },
    {
      "cell_type": "code",
      "metadata": {
        "ExecuteTime": {
          "end_time": "2020-09-13T03:53:42.991083Z",
          "start_time": "2020-09-13T03:53:42.750358Z"
        },
        "id": "Z5RDxCcT6YbP",
        "outputId": "5b7303ac-0de2-4b84-c46a-49475e15c580"
      },
      "source": [
        "print(theta)\n",
        "print(\"Terminé !\")"
      ],
      "execution_count": null,
      "outputs": [
        {
          "output_type": "display_data",
          "data": {
            "image/png": "[encoded data removed]",
            "text/plain": [
              "<Figure size 432x288 with 1 Axes>"
            ]
          },
          "metadata": {
            "tags": [],
            "needs_background": "light"
          }
        },
        {
          "output_type": "display_data",
          "data": {
            "image/png": "[encoded data removed]",
            "text/plain": [
              "<Figure size 432x288 with 1 Axes>"
            ]
          },
          "metadata": {
            "tags": [],
            "needs_background": "light"
          }
        },
        {
          "output_type": "stream",
          "text": [
            "[2.77577901 4.51506986]\n",
            "Terminé !\n"
          ],
          "name": "stdout"
        }
      ]
    }
  ]
}